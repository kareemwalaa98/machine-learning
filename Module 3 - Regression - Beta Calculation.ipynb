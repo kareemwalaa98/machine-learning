{
 "cells": [
  {
   "cell_type": "markdown",
   "metadata": {},
   "source": [
    "# Module 3- Regression & Beta Calculation\n",
    "\n"
   ]
  },
  {
   "cell_type": "markdown",
   "metadata": {},
   "source": [
    "   ### Welcome to the Answer notebook for Module 3 ! \n",
    "\n"
   ]
  },
  {
   "cell_type": "markdown",
   "metadata": {},
   "source": [
    "#--------------------------------------------------------------------------------------------------------------------------------------------------------------------------------------------------------#"
   ]
  },
  {
   "cell_type": "markdown",
   "metadata": {},
   "source": [
    "### Query 3.1 \n",
    "Import the file 'gold.csv', which is contains the data about last 2 years price action of Indian(MCX) gold standard. Explore the dataframe. You'd see 2 unique columns - 'Pred' and 'new'.\n",
    "\n",
    "One of the 2 columns is a linear combination of the OHLC prices with varying coefficients while the other is a polynomial fucntion of the same inputs. Also, one of the 2 columns is partially filled.\n",
    "\n",
    ">Using linear regression, find the coefficients of the inputs and using the same trained model, complete the\n",
    "      entire column.\n",
    "      \n",
    ">Also, try to fit the other column as well using a new linear regression model. Check if the predicitons are \n",
    "      accurate.\n",
    "      Mention which column is a linear function and which is a polynomial function.\n",
    "      (Hint: Plotting a histogram & distplot helps in recognizing the  discrepencies in prediction, if any.)"
   ]
  },
  {
   "cell_type": "code",
   "execution_count": 26,
   "metadata": {},
   "outputs": [],
   "source": [
    "import pandas as pd\n",
    "import numpy as np\n",
    "import matplotlib.pyplot as plt\n",
    "import seaborn as sns \n",
    "import warnings \n",
    "warnings.filterwarnings('ignore')"
   ]
  },
  {
   "cell_type": "code",
   "execution_count": 27,
   "metadata": {},
   "outputs": [],
   "source": [
    "gold = pd.read_csv('CSV/GOLD.csv')"
   ]
  },
  {
   "cell_type": "code",
   "execution_count": 28,
   "metadata": {},
   "outputs": [
    {
     "data": {
      "text/html": [
       "<div>\n",
       "<style scoped>\n",
       "    .dataframe tbody tr th:only-of-type {\n",
       "        vertical-align: middle;\n",
       "    }\n",
       "\n",
       "    .dataframe tbody tr th {\n",
       "        vertical-align: top;\n",
       "    }\n",
       "\n",
       "    .dataframe thead th {\n",
       "        text-align: right;\n",
       "    }\n",
       "</style>\n",
       "<table border=\"1\" class=\"dataframe\">\n",
       "  <thead>\n",
       "    <tr style=\"text-align: right;\">\n",
       "      <th></th>\n",
       "      <th>Date</th>\n",
       "      <th>Price</th>\n",
       "      <th>Open</th>\n",
       "      <th>High</th>\n",
       "      <th>Low</th>\n",
       "      <th>Vol.</th>\n",
       "      <th>Change %</th>\n",
       "      <th>Pred</th>\n",
       "      <th>new</th>\n",
       "    </tr>\n",
       "  </thead>\n",
       "  <tbody>\n",
       "    <tr>\n",
       "      <th>0</th>\n",
       "      <td>May 04, 2017</td>\n",
       "      <td>28060</td>\n",
       "      <td>28400</td>\n",
       "      <td>28482</td>\n",
       "      <td>28025</td>\n",
       "      <td>0.08K</td>\n",
       "      <td>-1.79%</td>\n",
       "      <td>738.0</td>\n",
       "      <td>117.570740</td>\n",
       "    </tr>\n",
       "    <tr>\n",
       "      <th>1</th>\n",
       "      <td>May 05, 2017</td>\n",
       "      <td>28184</td>\n",
       "      <td>28136</td>\n",
       "      <td>28382</td>\n",
       "      <td>28135</td>\n",
       "      <td>0.06K</td>\n",
       "      <td>0.44%</td>\n",
       "      <td>-146.0</td>\n",
       "      <td>295.430176</td>\n",
       "    </tr>\n",
       "    <tr>\n",
       "      <th>2</th>\n",
       "      <td>May 08, 2017</td>\n",
       "      <td>28119</td>\n",
       "      <td>28145</td>\n",
       "      <td>28255</td>\n",
       "      <td>28097</td>\n",
       "      <td>7.85K</td>\n",
       "      <td>-0.23%</td>\n",
       "      <td>30.0</td>\n",
       "      <td>132.123714</td>\n",
       "    </tr>\n",
       "    <tr>\n",
       "      <th>3</th>\n",
       "      <td>May 09, 2017</td>\n",
       "      <td>27981</td>\n",
       "      <td>28125</td>\n",
       "      <td>28192</td>\n",
       "      <td>27947</td>\n",
       "      <td>10.10K</td>\n",
       "      <td>-0.49%</td>\n",
       "      <td>357.0</td>\n",
       "      <td>101.298064</td>\n",
       "    </tr>\n",
       "    <tr>\n",
       "      <th>4</th>\n",
       "      <td>May 10, 2017</td>\n",
       "      <td>28007</td>\n",
       "      <td>28060</td>\n",
       "      <td>28146</td>\n",
       "      <td>27981</td>\n",
       "      <td>9.28K</td>\n",
       "      <td>0.09%</td>\n",
       "      <td>124.0</td>\n",
       "      <td>112.153318</td>\n",
       "    </tr>\n",
       "  </tbody>\n",
       "</table>\n",
       "</div>"
      ],
      "text/plain": [
       "           Date  Price   Open   High    Low    Vol. Change %   Pred  \\\n",
       "0  May 04, 2017  28060  28400  28482  28025   0.08K   -1.79%  738.0   \n",
       "1  May 05, 2017  28184  28136  28382  28135   0.06K    0.44% -146.0   \n",
       "2  May 08, 2017  28119  28145  28255  28097   7.85K   -0.23%   30.0   \n",
       "3  May 09, 2017  27981  28125  28192  27947  10.10K   -0.49%  357.0   \n",
       "4  May 10, 2017  28007  28060  28146  27981   9.28K    0.09%  124.0   \n",
       "\n",
       "          new  \n",
       "0  117.570740  \n",
       "1  295.430176  \n",
       "2  132.123714  \n",
       "3  101.298064  \n",
       "4  112.153318  "
      ]
     },
     "execution_count": 28,
     "metadata": {},
     "output_type": "execute_result"
    }
   ],
   "source": [
    "gold.head()"
   ]
  },
  {
   "cell_type": "code",
   "execution_count": 29,
   "metadata": {},
   "outputs": [
    {
     "data": {
      "text/plain": [
       "(512, 9)"
      ]
     },
     "execution_count": 29,
     "metadata": {},
     "output_type": "execute_result"
    }
   ],
   "source": [
    "gold.shape"
   ]
  },
  {
   "cell_type": "code",
   "execution_count": 30,
   "metadata": {},
   "outputs": [
    {
     "data": {
      "text/plain": [
       "Date          0\n",
       "Price         0\n",
       "Open          0\n",
       "High          0\n",
       "Low           0\n",
       "Vol.          0\n",
       "Change %      0\n",
       "Pred        101\n",
       "new           0\n",
       "dtype: int64"
      ]
     },
     "execution_count": 30,
     "metadata": {},
     "output_type": "execute_result"
    }
   ],
   "source": [
    "gold.isnull().sum()"
   ]
  },
  {
   "cell_type": "code",
   "execution_count": 31,
   "metadata": {},
   "outputs": [],
   "source": [
    "Gold= gold.dropna()"
   ]
  },
  {
   "cell_type": "code",
   "execution_count": 32,
   "metadata": {},
   "outputs": [],
   "source": [
    "x = Gold[['Price','Open','High','Low']]\n",
    "y = Gold['Pred']"
   ]
  },
  {
   "cell_type": "code",
   "execution_count": 33,
   "metadata": {},
   "outputs": [],
   "source": [
    "from sklearn.model_selection import train_test_split\n",
    "x_train , x_test , y_train , y_test = train_test_split(x,y,test_size=0.33 , random_state=42)"
   ]
  },
  {
   "cell_type": "code",
   "execution_count": 34,
   "metadata": {},
   "outputs": [
    {
     "data": {
      "text/html": [
       "<div>\n",
       "<style scoped>\n",
       "    .dataframe tbody tr th:only-of-type {\n",
       "        vertical-align: middle;\n",
       "    }\n",
       "\n",
       "    .dataframe tbody tr th {\n",
       "        vertical-align: top;\n",
       "    }\n",
       "\n",
       "    .dataframe thead th {\n",
       "        text-align: right;\n",
       "    }\n",
       "</style>\n",
       "<table border=\"1\" class=\"dataframe\">\n",
       "  <thead>\n",
       "    <tr style=\"text-align: right;\">\n",
       "      <th></th>\n",
       "      <th>Price</th>\n",
       "      <th>Open</th>\n",
       "      <th>High</th>\n",
       "      <th>Low</th>\n",
       "    </tr>\n",
       "  </thead>\n",
       "  <tbody>\n",
       "    <tr>\n",
       "      <th>382</th>\n",
       "      <td>31631</td>\n",
       "      <td>31650</td>\n",
       "      <td>31780</td>\n",
       "      <td>31590</td>\n",
       "    </tr>\n",
       "    <tr>\n",
       "      <th>181</th>\n",
       "      <td>29761</td>\n",
       "      <td>29876</td>\n",
       "      <td>29884</td>\n",
       "      <td>29705</td>\n",
       "    </tr>\n",
       "    <tr>\n",
       "      <th>119</th>\n",
       "      <td>29541</td>\n",
       "      <td>29600</td>\n",
       "      <td>29622</td>\n",
       "      <td>29524</td>\n",
       "    </tr>\n",
       "    <tr>\n",
       "      <th>361</th>\n",
       "      <td>30614</td>\n",
       "      <td>30399</td>\n",
       "      <td>30660</td>\n",
       "      <td>30376</td>\n",
       "    </tr>\n",
       "    <tr>\n",
       "      <th>209</th>\n",
       "      <td>30306</td>\n",
       "      <td>30518</td>\n",
       "      <td>30597</td>\n",
       "      <td>30270</td>\n",
       "    </tr>\n",
       "  </tbody>\n",
       "</table>\n",
       "</div>"
      ],
      "text/plain": [
       "     Price   Open   High    Low\n",
       "382  31631  31650  31780  31590\n",
       "181  29761  29876  29884  29705\n",
       "119  29541  29600  29622  29524\n",
       "361  30614  30399  30660  30376\n",
       "209  30306  30518  30597  30270"
      ]
     },
     "execution_count": 34,
     "metadata": {},
     "output_type": "execute_result"
    }
   ],
   "source": [
    "x_train.head()"
   ]
  },
  {
   "cell_type": "code",
   "execution_count": 35,
   "metadata": {},
   "outputs": [],
   "source": [
    "from sklearn import linear_model"
   ]
  },
  {
   "cell_type": "code",
   "execution_count": 36,
   "metadata": {},
   "outputs": [],
   "source": [
    "lm = linear_model.LinearRegression()"
   ]
  },
  {
   "cell_type": "code",
   "execution_count": 37,
   "metadata": {},
   "outputs": [
    {
     "data": {
      "text/plain": [
       "LinearRegression(copy_X=True, fit_intercept=True, n_jobs=1, normalize=False)"
      ]
     },
     "execution_count": 37,
     "metadata": {},
     "output_type": "execute_result"
    }
   ],
   "source": [
    "lm.fit(x_train,y_train)"
   ]
  },
  {
   "cell_type": "code",
   "execution_count": 38,
   "metadata": {},
   "outputs": [
    {
     "data": {
      "text/plain": [
       "array([ 2.,  3., -1., -4.])"
      ]
     },
     "execution_count": 38,
     "metadata": {},
     "output_type": "execute_result"
    }
   ],
   "source": [
    "lm.coef_"
   ]
  },
  {
   "cell_type": "code",
   "execution_count": 39,
   "metadata": {},
   "outputs": [
    {
     "data": {
      "text/html": [
       "<div>\n",
       "<style scoped>\n",
       "    .dataframe tbody tr th:only-of-type {\n",
       "        vertical-align: middle;\n",
       "    }\n",
       "\n",
       "    .dataframe tbody tr th {\n",
       "        vertical-align: top;\n",
       "    }\n",
       "\n",
       "    .dataframe thead th {\n",
       "        text-align: right;\n",
       "    }\n",
       "</style>\n",
       "<table border=\"1\" class=\"dataframe\">\n",
       "  <thead>\n",
       "    <tr style=\"text-align: right;\">\n",
       "      <th></th>\n",
       "      <th>Coeff</th>\n",
       "    </tr>\n",
       "  </thead>\n",
       "  <tbody>\n",
       "    <tr>\n",
       "      <th>Price</th>\n",
       "      <td>2.0</td>\n",
       "    </tr>\n",
       "    <tr>\n",
       "      <th>Open</th>\n",
       "      <td>3.0</td>\n",
       "    </tr>\n",
       "    <tr>\n",
       "      <th>High</th>\n",
       "      <td>-1.0</td>\n",
       "    </tr>\n",
       "    <tr>\n",
       "      <th>Low</th>\n",
       "      <td>-4.0</td>\n",
       "    </tr>\n",
       "  </tbody>\n",
       "</table>\n",
       "</div>"
      ],
      "text/plain": [
       "       Coeff\n",
       "Price    2.0\n",
       "Open     3.0\n",
       "High    -1.0\n",
       "Low     -4.0"
      ]
     },
     "execution_count": 39,
     "metadata": {},
     "output_type": "execute_result"
    }
   ],
   "source": [
    "coeff=pd.DataFrame(lm.coef_,x.columns,columns=['Coeff'])\n",
    "coeff"
   ]
  },
  {
   "cell_type": "code",
   "execution_count": 40,
   "metadata": {},
   "outputs": [],
   "source": [
    "predict = lm.predict(x_test)"
   ]
  },
  {
   "cell_type": "code",
   "execution_count": 41,
   "metadata": {},
   "outputs": [
    {
     "data": {
      "text/plain": [
       "<matplotlib.collections.PathCollection at 0x7f694ddfe780>"
      ]
     },
     "execution_count": 41,
     "metadata": {},
     "output_type": "execute_result"
    },
    {
     "data": {
      "image/png": "[encoded data removed]",
      "text/plain": [
       "<Figure size 432x288 with 1 Axes>"
      ]
     },
     "metadata": {},
     "output_type": "display_data"
    }
   ],
   "source": [
    "plt.scatter(y_test,predict,c=['b','r'])"
   ]
  },
  {
   "cell_type": "code",
   "execution_count": 45,
   "metadata": {},
   "outputs": [],
   "source": [
    "gold['Pred']=lm.predict(gold[['Price','Open','High','Low']])"
   ]
  },
  {
   "cell_type": "code",
   "execution_count": 46,
   "metadata": {},
   "outputs": [
    {
     "data": {
      "text/plain": [
       "(512, 10)"
      ]
     },
     "execution_count": 46,
     "metadata": {},
     "output_type": "execute_result"
    }
   ],
   "source": [
    "gold.shape"
   ]
  },
  {
   "cell_type": "code",
   "execution_count": 47,
   "metadata": {},
   "outputs": [
    {
     "data": {
      "text/plain": [
       "Date        0\n",
       "Price       0\n",
       "Open        0\n",
       "High        0\n",
       "Low         0\n",
       "Vol.        0\n",
       "Change %    0\n",
       "Pred        0\n",
       "new         0\n",
       "pred        0\n",
       "dtype: int64"
      ]
     },
     "execution_count": 47,
     "metadata": {},
     "output_type": "execute_result"
    }
   ],
   "source": [
    "gold.isnull().sum()"
   ]
  },
  {
   "cell_type": "code",
   "execution_count": 49,
   "metadata": {},
   "outputs": [
    {
     "data": {
      "text/plain": [
       "<matplotlib.axes._subplots.AxesSubplot at 0x7f694db516a0>"
      ]
     },
     "execution_count": 49,
     "metadata": {},
     "output_type": "execute_result"
    },
    {
     "data": {
      "image/png": "[encoded data removed]",
      "text/plain": [
       "<Figure size 432x288 with 1 Axes>"
      ]
     },
     "metadata": {},
     "output_type": "display_data"
    }
   ],
   "source": [
    "sns.distplot(y_test-predict,bins=30)"
   ]
  },
  {
   "cell_type": "markdown",
   "metadata": {},
   "source": [
    "\n",
    "CAPM CAPM Analysis and Beta Calculation using regression - \n",
    "CAPM(Capital Asset Pricing Model) attempts to price securities by examining the relationship that exists between expected returns and risk. \n",
    "Read more about CAPM. (Investopedia CAPM reference) \n",
    "The Beta of an asset is a measure of the sensitivity of its returns relative to a market benchmark (usually a market index). How sensitive/insensitive is the returns of an asset to the overall market returns (usually a market index like S&P 500 index). What happens when the market jumps, does the returns of the asset jump accordingly or jump somehow? \n",
    "Read more about Beta (Investopedia Beta reference)"
   ]
  },
  {
   "cell_type": "markdown",
   "metadata": {},
   "source": [
    "### Query 3.2\n",
    "3.2 Import the stock of your choosing AND the Nifty index. \n",
    "Using linear regression (OLS), calculate -\n",
    "The daily Beta value for the past 3 months. (Daily= Daily returns)\n",
    "The monthly Beta value. (Monthly= Monthly returns)\n",
    "Refrain from using the (covariance(x,y)/variance(x)) formula. \n",
    "Attempt the question using regression.(Regression Reference) \n",
    "Were the Beta values more or less than 1 ? What if it was negative ? \n",
    "Discuss. Include a brief writeup in the bottom of your jupyter notebook with your inferences from the Beta values and regression results"
   ]
  },
  {
   "cell_type": "code",
   "execution_count": 50,
   "metadata": {},
   "outputs": [],
   "source": [
    "import statsmodels.api as sm"
   ]
  },
  {
   "cell_type": "code",
   "execution_count": 53,
   "metadata": {},
   "outputs": [
    {
     "name": "stdout",
     "output_type": "stream",
     "text": [
      "              maruti    nifty\n",
      "Date                         \n",
      "15-May-2017  6823.90  9445.40\n",
      "16-May-2017  6953.95  9512.25\n",
      "17-May-2017  6958.20  9525.75\n",
      "18-May-2017  6831.05  9429.45\n",
      "19-May-2017  6790.55  9427.90\n"
     ]
    },
    {
     "data": {
      "text/html": [
       "<div>\n",
       "<style scoped>\n",
       "    .dataframe tbody tr th:only-of-type {\n",
       "        vertical-align: middle;\n",
       "    }\n",
       "\n",
       "    .dataframe tbody tr th {\n",
       "        vertical-align: top;\n",
       "    }\n",
       "\n",
       "    .dataframe thead th {\n",
       "        text-align: right;\n",
       "    }\n",
       "</style>\n",
       "<table border=\"1\" class=\"dataframe\">\n",
       "  <thead>\n",
       "    <tr style=\"text-align: right;\">\n",
       "      <th></th>\n",
       "      <th>maruti</th>\n",
       "      <th>nifty</th>\n",
       "    </tr>\n",
       "    <tr>\n",
       "      <th>Date</th>\n",
       "      <th></th>\n",
       "      <th></th>\n",
       "    </tr>\n",
       "  </thead>\n",
       "  <tbody>\n",
       "    <tr>\n",
       "      <th>16-May-2017</th>\n",
       "      <td>0.019058</td>\n",
       "      <td>0.007078</td>\n",
       "    </tr>\n",
       "    <tr>\n",
       "      <th>17-May-2017</th>\n",
       "      <td>0.000611</td>\n",
       "      <td>0.001419</td>\n",
       "    </tr>\n",
       "    <tr>\n",
       "      <th>18-May-2017</th>\n",
       "      <td>-0.018273</td>\n",
       "      <td>-0.010109</td>\n",
       "    </tr>\n",
       "    <tr>\n",
       "      <th>19-May-2017</th>\n",
       "      <td>-0.005929</td>\n",
       "      <td>-0.000164</td>\n",
       "    </tr>\n",
       "    <tr>\n",
       "      <th>22-May-2017</th>\n",
       "      <td>-0.013084</td>\n",
       "      <td>0.001098</td>\n",
       "    </tr>\n",
       "  </tbody>\n",
       "</table>\n",
       "</div>"
      ],
      "text/plain": [
       "               maruti     nifty\n",
       "Date                           \n",
       "16-May-2017  0.019058  0.007078\n",
       "17-May-2017  0.000611  0.001419\n",
       "18-May-2017 -0.018273 -0.010109\n",
       "19-May-2017 -0.005929 -0.000164\n",
       "22-May-2017 -0.013084  0.001098"
      ]
     },
     "execution_count": 53,
     "metadata": {},
     "output_type": "execute_result"
    }
   ],
   "source": [
    "maruti = pd.read_csv('CSV/MARUTI.csv')\n",
    "maruti = maruti[maruti.Series == 'EQ']\n",
    "maruti.index = maruti.Date\n",
    "nifty = pd.read_csv('CSV/Nifty50.csv')\n",
    "nifty.index = nifty.Date\n",
    "\n",
    "prices = pd.concat([maruti['Close Price'],nifty['Close']],axis = 1)\n",
    "prices.columns = ['maruti', 'nifty']\n",
    "\n",
    "print(prices.head())\n",
    "\n",
    "returns = prices.pct_change()\n",
    "returns = returns.dropna(axis=0)\n",
    "returns.head()"
   ]
  },
  {
   "cell_type": "code",
   "execution_count": 56,
   "metadata": {},
   "outputs": [],
   "source": [
    "returns = returns.iloc[-60:,:]"
   ]
  },
  {
   "cell_type": "code",
   "execution_count": 57,
   "metadata": {
    "scrolled": true
   },
   "outputs": [
    {
     "data": {
      "text/html": [
       "<div>\n",
       "<style scoped>\n",
       "    .dataframe tbody tr th:only-of-type {\n",
       "        vertical-align: middle;\n",
       "    }\n",
       "\n",
       "    .dataframe tbody tr th {\n",
       "        vertical-align: top;\n",
       "    }\n",
       "\n",
       "    .dataframe thead th {\n",
       "        text-align: right;\n",
       "    }\n",
       "</style>\n",
       "<table border=\"1\" class=\"dataframe\">\n",
       "  <thead>\n",
       "    <tr style=\"text-align: right;\">\n",
       "      <th></th>\n",
       "      <th>maruti</th>\n",
       "      <th>nifty</th>\n",
       "    </tr>\n",
       "    <tr>\n",
       "      <th>Date</th>\n",
       "      <th></th>\n",
       "      <th></th>\n",
       "    </tr>\n",
       "  </thead>\n",
       "  <tbody>\n",
       "    <tr>\n",
       "      <th>11-Feb-2019</th>\n",
       "      <td>0.006118</td>\n",
       "      <td>-0.005007</td>\n",
       "    </tr>\n",
       "    <tr>\n",
       "      <th>12-Feb-2019</th>\n",
       "      <td>-0.002145</td>\n",
       "      <td>-0.005271</td>\n",
       "    </tr>\n",
       "    <tr>\n",
       "      <th>13-Feb-2019</th>\n",
       "      <td>-0.018743</td>\n",
       "      <td>-0.003485</td>\n",
       "    </tr>\n",
       "    <tr>\n",
       "      <th>14-Feb-2019</th>\n",
       "      <td>-0.001530</td>\n",
       "      <td>-0.004410</td>\n",
       "    </tr>\n",
       "    <tr>\n",
       "      <th>15-Feb-2019</th>\n",
       "      <td>-0.012462</td>\n",
       "      <td>-0.002015</td>\n",
       "    </tr>\n",
       "    <tr>\n",
       "      <th>18-Feb-2019</th>\n",
       "      <td>-0.012605</td>\n",
       "      <td>-0.007781</td>\n",
       "    </tr>\n",
       "    <tr>\n",
       "      <th>19-Feb-2019</th>\n",
       "      <td>-0.005575</td>\n",
       "      <td>-0.003440</td>\n",
       "    </tr>\n",
       "    <tr>\n",
       "      <th>20-Feb-2019</th>\n",
       "      <td>0.006665</td>\n",
       "      <td>0.012363</td>\n",
       "    </tr>\n",
       "    <tr>\n",
       "      <th>21-Feb-2019</th>\n",
       "      <td>-0.007058</td>\n",
       "      <td>0.005067</td>\n",
       "    </tr>\n",
       "    <tr>\n",
       "      <th>22-Feb-2019</th>\n",
       "      <td>0.016298</td>\n",
       "      <td>0.000167</td>\n",
       "    </tr>\n",
       "    <tr>\n",
       "      <th>25-Feb-2019</th>\n",
       "      <td>0.001808</td>\n",
       "      <td>0.008196</td>\n",
       "    </tr>\n",
       "    <tr>\n",
       "      <th>26-Feb-2019</th>\n",
       "      <td>-0.002975</td>\n",
       "      <td>-0.004118</td>\n",
       "    </tr>\n",
       "    <tr>\n",
       "      <th>27-Feb-2019</th>\n",
       "      <td>0.009299</td>\n",
       "      <td>-0.002644</td>\n",
       "    </tr>\n",
       "    <tr>\n",
       "      <th>28-Feb-2019</th>\n",
       "      <td>-0.019918</td>\n",
       "      <td>-0.001309</td>\n",
       "    </tr>\n",
       "    <tr>\n",
       "      <th>01-Mar-2019</th>\n",
       "      <td>0.015440</td>\n",
       "      <td>0.006579</td>\n",
       "    </tr>\n",
       "    <tr>\n",
       "      <th>05-Mar-2019</th>\n",
       "      <td>0.026330</td>\n",
       "      <td>0.011410</td>\n",
       "    </tr>\n",
       "    <tr>\n",
       "      <th>06-Mar-2019</th>\n",
       "      <td>-0.008549</td>\n",
       "      <td>0.005966</td>\n",
       "    </tr>\n",
       "    <tr>\n",
       "      <th>07-Mar-2019</th>\n",
       "      <td>-0.003946</td>\n",
       "      <td>0.000470</td>\n",
       "    </tr>\n",
       "    <tr>\n",
       "      <th>08-Mar-2019</th>\n",
       "      <td>-0.008728</td>\n",
       "      <td>-0.002062</td>\n",
       "    </tr>\n",
       "    <tr>\n",
       "      <th>11-Mar-2019</th>\n",
       "      <td>0.016390</td>\n",
       "      <td>0.012020</td>\n",
       "    </tr>\n",
       "    <tr>\n",
       "      <th>12-Mar-2019</th>\n",
       "      <td>0.010633</td>\n",
       "      <td>0.011922</td>\n",
       "    </tr>\n",
       "    <tr>\n",
       "      <th>13-Mar-2019</th>\n",
       "      <td>-0.009242</td>\n",
       "      <td>0.003584</td>\n",
       "    </tr>\n",
       "    <tr>\n",
       "      <th>14-Mar-2019</th>\n",
       "      <td>-0.000670</td>\n",
       "      <td>0.000137</td>\n",
       "    </tr>\n",
       "    <tr>\n",
       "      <th>15-Mar-2019</th>\n",
       "      <td>-0.000325</td>\n",
       "      <td>0.007370</td>\n",
       "    </tr>\n",
       "    <tr>\n",
       "      <th>18-Mar-2019</th>\n",
       "      <td>-0.024689</td>\n",
       "      <td>0.003094</td>\n",
       "    </tr>\n",
       "    <tr>\n",
       "      <th>19-Mar-2019</th>\n",
       "      <td>-0.012143</td>\n",
       "      <td>0.006124</td>\n",
       "    </tr>\n",
       "    <tr>\n",
       "      <th>20-Mar-2019</th>\n",
       "      <td>-0.022219</td>\n",
       "      <td>-0.000984</td>\n",
       "    </tr>\n",
       "    <tr>\n",
       "      <th>22-Mar-2019</th>\n",
       "      <td>-0.018109</td>\n",
       "      <td>-0.005568</td>\n",
       "    </tr>\n",
       "    <tr>\n",
       "      <th>25-Mar-2019</th>\n",
       "      <td>-0.004594</td>\n",
       "      <td>-0.008960</td>\n",
       "    </tr>\n",
       "    <tr>\n",
       "      <th>26-Mar-2019</th>\n",
       "      <td>0.009674</td>\n",
       "      <td>0.011361</td>\n",
       "    </tr>\n",
       "    <tr>\n",
       "      <th>27-Mar-2019</th>\n",
       "      <td>-0.010280</td>\n",
       "      <td>-0.003327</td>\n",
       "    </tr>\n",
       "    <tr>\n",
       "      <th>28-Mar-2019</th>\n",
       "      <td>0.012005</td>\n",
       "      <td>0.010917</td>\n",
       "    </tr>\n",
       "    <tr>\n",
       "      <th>29-Mar-2019</th>\n",
       "      <td>0.011567</td>\n",
       "      <td>0.004659</td>\n",
       "    </tr>\n",
       "    <tr>\n",
       "      <th>01-Apr-2019</th>\n",
       "      <td>0.025200</td>\n",
       "      <td>0.003893</td>\n",
       "    </tr>\n",
       "    <tr>\n",
       "      <th>02-Apr-2019</th>\n",
       "      <td>0.007163</td>\n",
       "      <td>0.003775</td>\n",
       "    </tr>\n",
       "    <tr>\n",
       "      <th>03-Apr-2019</th>\n",
       "      <td>0.026590</td>\n",
       "      <td>-0.005912</td>\n",
       "    </tr>\n",
       "    <tr>\n",
       "      <th>04-Apr-2019</th>\n",
       "      <td>0.005684</td>\n",
       "      <td>-0.003946</td>\n",
       "    </tr>\n",
       "    <tr>\n",
       "      <th>05-Apr-2019</th>\n",
       "      <td>-0.000759</td>\n",
       "      <td>0.005859</td>\n",
       "    </tr>\n",
       "    <tr>\n",
       "      <th>08-Apr-2019</th>\n",
       "      <td>0.003060</td>\n",
       "      <td>-0.005267</td>\n",
       "    </tr>\n",
       "    <tr>\n",
       "      <th>09-Apr-2019</th>\n",
       "      <td>0.012217</td>\n",
       "      <td>0.005812</td>\n",
       "    </tr>\n",
       "    <tr>\n",
       "      <th>10-Apr-2019</th>\n",
       "      <td>-0.004185</td>\n",
       "      <td>-0.007509</td>\n",
       "    </tr>\n",
       "    <tr>\n",
       "      <th>11-Apr-2019</th>\n",
       "      <td>0.000209</td>\n",
       "      <td>0.001070</td>\n",
       "    </tr>\n",
       "    <tr>\n",
       "      <th>12-Apr-2019</th>\n",
       "      <td>0.021564</td>\n",
       "      <td>0.004031</td>\n",
       "    </tr>\n",
       "    <tr>\n",
       "      <th>15-Apr-2019</th>\n",
       "      <td>0.001314</td>\n",
       "      <td>0.004028</td>\n",
       "    </tr>\n",
       "    <tr>\n",
       "      <th>16-Apr-2019</th>\n",
       "      <td>0.014424</td>\n",
       "      <td>0.008280</td>\n",
       "    </tr>\n",
       "    <tr>\n",
       "      <th>18-Apr-2019</th>\n",
       "      <td>-0.001488</td>\n",
       "      <td>-0.002914</td>\n",
       "    </tr>\n",
       "    <tr>\n",
       "      <th>22-Apr-2019</th>\n",
       "      <td>-0.016945</td>\n",
       "      <td>-0.013473</td>\n",
       "    </tr>\n",
       "    <tr>\n",
       "      <th>23-Apr-2019</th>\n",
       "      <td>-0.037200</td>\n",
       "      <td>-0.001596</td>\n",
       "    </tr>\n",
       "    <tr>\n",
       "      <th>24-Apr-2019</th>\n",
       "      <td>-0.004568</td>\n",
       "      <td>0.012975</td>\n",
       "    </tr>\n",
       "    <tr>\n",
       "      <th>25-Apr-2019</th>\n",
       "      <td>-0.015884</td>\n",
       "      <td>-0.007193</td>\n",
       "    </tr>\n",
       "    <tr>\n",
       "      <th>26-Apr-2019</th>\n",
       "      <td>-0.009037</td>\n",
       "      <td>0.009694</td>\n",
       "    </tr>\n",
       "    <tr>\n",
       "      <th>30-Apr-2019</th>\n",
       "      <td>-0.025786</td>\n",
       "      <td>-0.000553</td>\n",
       "    </tr>\n",
       "    <tr>\n",
       "      <th>02-May-2019</th>\n",
       "      <td>0.002528</td>\n",
       "      <td>-0.001992</td>\n",
       "    </tr>\n",
       "    <tr>\n",
       "      <th>03-May-2019</th>\n",
       "      <td>0.004003</td>\n",
       "      <td>-0.001066</td>\n",
       "    </tr>\n",
       "    <tr>\n",
       "      <th>06-May-2019</th>\n",
       "      <td>-0.000052</td>\n",
       "      <td>-0.009733</td>\n",
       "    </tr>\n",
       "    <tr>\n",
       "      <th>07-May-2019</th>\n",
       "      <td>-0.001140</td>\n",
       "      <td>-0.008652</td>\n",
       "    </tr>\n",
       "    <tr>\n",
       "      <th>08-May-2019</th>\n",
       "      <td>-0.007736</td>\n",
       "      <td>-0.012041</td>\n",
       "    </tr>\n",
       "    <tr>\n",
       "      <th>09-May-2019</th>\n",
       "      <td>-0.003789</td>\n",
       "      <td>-0.005075</td>\n",
       "    </tr>\n",
       "    <tr>\n",
       "      <th>10-May-2019</th>\n",
       "      <td>0.001004</td>\n",
       "      <td>-0.002026</td>\n",
       "    </tr>\n",
       "    <tr>\n",
       "      <th>13-May-2019</th>\n",
       "      <td>-0.013247</td>\n",
       "      <td>-0.011588</td>\n",
       "    </tr>\n",
       "  </tbody>\n",
       "</table>\n",
       "</div>"
      ],
      "text/plain": [
       "               maruti     nifty\n",
       "Date                           \n",
       "11-Feb-2019  0.006118 -0.005007\n",
       "12-Feb-2019 -0.002145 -0.005271\n",
       "13-Feb-2019 -0.018743 -0.003485\n",
       "14-Feb-2019 -0.001530 -0.004410\n",
       "15-Feb-2019 -0.012462 -0.002015\n",
       "18-Feb-2019 -0.012605 -0.007781\n",
       "19-Feb-2019 -0.005575 -0.003440\n",
       "20-Feb-2019  0.006665  0.012363\n",
       "21-Feb-2019 -0.007058  0.005067\n",
       "22-Feb-2019  0.016298  0.000167\n",
       "25-Feb-2019  0.001808  0.008196\n",
       "26-Feb-2019 -0.002975 -0.004118\n",
       "27-Feb-2019  0.009299 -0.002644\n",
       "28-Feb-2019 -0.019918 -0.001309\n",
       "01-Mar-2019  0.015440  0.006579\n",
       "05-Mar-2019  0.026330  0.011410\n",
       "06-Mar-2019 -0.008549  0.005966\n",
       "07-Mar-2019 -0.003946  0.000470\n",
       "08-Mar-2019 -0.008728 -0.002062\n",
       "11-Mar-2019  0.016390  0.012020\n",
       "12-Mar-2019  0.010633  0.011922\n",
       "13-Mar-2019 -0.009242  0.003584\n",
       "14-Mar-2019 -0.000670  0.000137\n",
       "15-Mar-2019 -0.000325  0.007370\n",
       "18-Mar-2019 -0.024689  0.003094\n",
       "19-Mar-2019 -0.012143  0.006124\n",
       "20-Mar-2019 -0.022219 -0.000984\n",
       "22-Mar-2019 -0.018109 -0.005568\n",
       "25-Mar-2019 -0.004594 -0.008960\n",
       "26-Mar-2019  0.009674  0.011361\n",
       "27-Mar-2019 -0.010280 -0.003327\n",
       "28-Mar-2019  0.012005  0.010917\n",
       "29-Mar-2019  0.011567  0.004659\n",
       "01-Apr-2019  0.025200  0.003893\n",
       "02-Apr-2019  0.007163  0.003775\n",
       "03-Apr-2019  0.026590 -0.005912\n",
       "04-Apr-2019  0.005684 -0.003946\n",
       "05-Apr-2019 -0.000759  0.005859\n",
       "08-Apr-2019  0.003060 -0.005267\n",
       "09-Apr-2019  0.012217  0.005812\n",
       "10-Apr-2019 -0.004185 -0.007509\n",
       "11-Apr-2019  0.000209  0.001070\n",
       "12-Apr-2019  0.021564  0.004031\n",
       "15-Apr-2019  0.001314  0.004028\n",
       "16-Apr-2019  0.014424  0.008280\n",
       "18-Apr-2019 -0.001488 -0.002914\n",
       "22-Apr-2019 -0.016945 -0.013473\n",
       "23-Apr-2019 -0.037200 -0.001596\n",
       "24-Apr-2019 -0.004568  0.012975\n",
       "25-Apr-2019 -0.015884 -0.007193\n",
       "26-Apr-2019 -0.009037  0.009694\n",
       "30-Apr-2019 -0.025786 -0.000553\n",
       "02-May-2019  0.002528 -0.001992\n",
       "03-May-2019  0.004003 -0.001066\n",
       "06-May-2019 -0.000052 -0.009733\n",
       "07-May-2019 -0.001140 -0.008652\n",
       "08-May-2019 -0.007736 -0.012041\n",
       "09-May-2019 -0.003789 -0.005075\n",
       "10-May-2019  0.001004 -0.002026\n",
       "13-May-2019 -0.013247 -0.011588"
      ]
     },
     "execution_count": 57,
     "metadata": {},
     "output_type": "execute_result"
    }
   ],
   "source": [
    "returns"
   ]
  },
  {
   "cell_type": "code",
   "execution_count": 59,
   "metadata": {},
   "outputs": [
    {
     "name": "stdout",
     "output_type": "stream",
     "text": [
      "                            OLS Regression Results                            \n",
      "==============================================================================\n",
      "Dep. Variable:                 maruti   R-squared:                       0.151\n",
      "Model:                            OLS   Adj. R-squared:                  0.136\n",
      "Method:                 Least Squares   F-statistic:                     10.28\n",
      "Date:                Tue, 06 Aug 2019   Prob (F-statistic):            0.00219\n",
      "Time:                        01:42:48   Log-Likelihood:                 179.65\n",
      "No. Observations:                  60   AIC:                            -355.3\n",
      "Df Residuals:                      58   BIC:                            -351.1\n",
      "Df Model:                           1                                         \n",
      "Covariance Type:            nonrobust                                         \n",
      "==============================================================================\n",
      "                 coef    std err          t      P>|t|      [0.025      0.975]\n",
      "------------------------------------------------------------------------------\n",
      "const         -0.0016      0.002     -1.006      0.319      -0.005       0.002\n",
      "nifty          0.7523      0.235      3.206      0.002       0.283       1.222\n",
      "==============================================================================\n",
      "Omnibus:                        1.985   Durbin-Watson:                   1.401\n",
      "Prob(Omnibus):                  0.371   Jarque-Bera (JB):                1.208\n",
      "Skew:                          -0.196   Prob(JB):                        0.547\n",
      "Kurtosis:                       3.574   Cond. No.                         147.\n",
      "==============================================================================\n",
      "\n",
      "Warnings:\n",
      "[1] Standard Errors assume that the covariance matrix of the errors is correctly specified.\n"
     ]
    }
   ],
   "source": [
    "x = returns['nifty']\n",
    "y = returns['maruti']\n",
    "\n",
    "x1=sm.add_constant(x)\n",
    "\n",
    "model=sm.OLS(y,x1)\n",
    "\n",
    "results = model.fit()\n",
    "print(results.summary())"
   ]
  },
  {
   "cell_type": "markdown",
   "metadata": {},
   "source": [
    "### Monthly Beta"
   ]
  },
  {
   "cell_type": "code",
   "execution_count": 60,
   "metadata": {},
   "outputs": [],
   "source": [
    "prices['month']=prices.index.str.slice(3)"
   ]
  },
  {
   "cell_type": "code",
   "execution_count": 61,
   "metadata": {},
   "outputs": [
    {
     "data": {
      "text/plain": [
       "array([[ 7211.  ,  9621.25],\n",
       "       [ 7217.6 ,  9520.9 ],\n",
       "       [ 7750.05, 10077.1 ],\n",
       "       [ 7700.3 ,  9917.9 ],\n",
       "       [ 7978.2 ,  9788.6 ],\n",
       "       [ 8211.25, 10335.3 ],\n",
       "       [ 8599.1 , 10226.55],\n",
       "       [ 9729.55, 10530.7 ],\n",
       "       [ 9509.7 , 11027.7 ],\n",
       "       [ 8850.95, 10492.85],\n",
       "       [ 8861.1 , 10113.7 ],\n",
       "       [ 8814.95, 10739.35],\n",
       "       [ 8537.2 , 10736.15],\n",
       "       [ 8825.6 , 10714.3 ],\n",
       "       [ 9520.55, 11356.5 ],\n",
       "       [ 9096.4 , 11680.5 ],\n",
       "       [ 7347.95, 10930.45],\n",
       "       [ 6616.4 , 10386.6 ],\n",
       "       [ 7661.6 , 10876.75],\n",
       "       [ 7465.5 , 10862.55],\n",
       "       [ 6641.15, 10830.95],\n",
       "       [ 6829.7 , 10792.5 ],\n",
       "       [ 6672.55, 11623.9 ],\n",
       "       [ 6666.4 , 11748.15],\n",
       "       [ 6543.75, 11148.2 ]])"
      ]
     },
     "execution_count": 61,
     "metadata": {},
     "output_type": "execute_result"
    }
   ],
   "source": [
    "month=np.zeros((25,2),dtype=float)\n",
    "for i , j in enumerate (prices.month.unique()):\n",
    "    temp = prices[prices.month==j]\n",
    "    month[i]=temp.iloc[-1,0:2]\n",
    "    \n",
    "    \n",
    "month"
   ]
  },
  {
   "cell_type": "code",
   "execution_count": 62,
   "metadata": {},
   "outputs": [],
   "source": [
    "month=pd.DataFrame(month)"
   ]
  },
  {
   "cell_type": "code",
   "execution_count": 63,
   "metadata": {
    "scrolled": true
   },
   "outputs": [
    {
     "data": {
      "text/html": [
       "<div>\n",
       "<style scoped>\n",
       "    .dataframe tbody tr th:only-of-type {\n",
       "        vertical-align: middle;\n",
       "    }\n",
       "\n",
       "    .dataframe tbody tr th {\n",
       "        vertical-align: top;\n",
       "    }\n",
       "\n",
       "    .dataframe thead th {\n",
       "        text-align: right;\n",
       "    }\n",
       "</style>\n",
       "<table border=\"1\" class=\"dataframe\">\n",
       "  <thead>\n",
       "    <tr style=\"text-align: right;\">\n",
       "      <th></th>\n",
       "      <th>maruti</th>\n",
       "      <th>nifty</th>\n",
       "    </tr>\n",
       "  </thead>\n",
       "  <tbody>\n",
       "    <tr>\n",
       "      <th>May-2017</th>\n",
       "      <td>7211.00</td>\n",
       "      <td>9621.25</td>\n",
       "    </tr>\n",
       "    <tr>\n",
       "      <th>Jun-2017</th>\n",
       "      <td>7217.60</td>\n",
       "      <td>9520.90</td>\n",
       "    </tr>\n",
       "    <tr>\n",
       "      <th>Jul-2017</th>\n",
       "      <td>7750.05</td>\n",
       "      <td>10077.10</td>\n",
       "    </tr>\n",
       "    <tr>\n",
       "      <th>Aug-2017</th>\n",
       "      <td>7700.30</td>\n",
       "      <td>9917.90</td>\n",
       "    </tr>\n",
       "    <tr>\n",
       "      <th>Sep-2017</th>\n",
       "      <td>7978.20</td>\n",
       "      <td>9788.60</td>\n",
       "    </tr>\n",
       "    <tr>\n",
       "      <th>Oct-2017</th>\n",
       "      <td>8211.25</td>\n",
       "      <td>10335.30</td>\n",
       "    </tr>\n",
       "    <tr>\n",
       "      <th>Nov-2017</th>\n",
       "      <td>8599.10</td>\n",
       "      <td>10226.55</td>\n",
       "    </tr>\n",
       "    <tr>\n",
       "      <th>Dec-2017</th>\n",
       "      <td>9729.55</td>\n",
       "      <td>10530.70</td>\n",
       "    </tr>\n",
       "    <tr>\n",
       "      <th>Jan-2018</th>\n",
       "      <td>9509.70</td>\n",
       "      <td>11027.70</td>\n",
       "    </tr>\n",
       "    <tr>\n",
       "      <th>Feb-2018</th>\n",
       "      <td>8850.95</td>\n",
       "      <td>10492.85</td>\n",
       "    </tr>\n",
       "    <tr>\n",
       "      <th>Mar-2018</th>\n",
       "      <td>8861.10</td>\n",
       "      <td>10113.70</td>\n",
       "    </tr>\n",
       "    <tr>\n",
       "      <th>Apr-2018</th>\n",
       "      <td>8814.95</td>\n",
       "      <td>10739.35</td>\n",
       "    </tr>\n",
       "    <tr>\n",
       "      <th>May-2018</th>\n",
       "      <td>8537.20</td>\n",
       "      <td>10736.15</td>\n",
       "    </tr>\n",
       "    <tr>\n",
       "      <th>Jun-2018</th>\n",
       "      <td>8825.60</td>\n",
       "      <td>10714.30</td>\n",
       "    </tr>\n",
       "    <tr>\n",
       "      <th>Jul-2018</th>\n",
       "      <td>9520.55</td>\n",
       "      <td>11356.50</td>\n",
       "    </tr>\n",
       "    <tr>\n",
       "      <th>Aug-2018</th>\n",
       "      <td>9096.40</td>\n",
       "      <td>11680.50</td>\n",
       "    </tr>\n",
       "    <tr>\n",
       "      <th>Sep-2018</th>\n",
       "      <td>7347.95</td>\n",
       "      <td>10930.45</td>\n",
       "    </tr>\n",
       "    <tr>\n",
       "      <th>Oct-2018</th>\n",
       "      <td>6616.40</td>\n",
       "      <td>10386.60</td>\n",
       "    </tr>\n",
       "    <tr>\n",
       "      <th>Nov-2018</th>\n",
       "      <td>7661.60</td>\n",
       "      <td>10876.75</td>\n",
       "    </tr>\n",
       "    <tr>\n",
       "      <th>Dec-2018</th>\n",
       "      <td>7465.50</td>\n",
       "      <td>10862.55</td>\n",
       "    </tr>\n",
       "    <tr>\n",
       "      <th>Jan-2019</th>\n",
       "      <td>6641.15</td>\n",
       "      <td>10830.95</td>\n",
       "    </tr>\n",
       "    <tr>\n",
       "      <th>Feb-2019</th>\n",
       "      <td>6829.70</td>\n",
       "      <td>10792.50</td>\n",
       "    </tr>\n",
       "    <tr>\n",
       "      <th>Mar-2019</th>\n",
       "      <td>6672.55</td>\n",
       "      <td>11623.90</td>\n",
       "    </tr>\n",
       "    <tr>\n",
       "      <th>Apr-2019</th>\n",
       "      <td>6666.40</td>\n",
       "      <td>11748.15</td>\n",
       "    </tr>\n",
       "    <tr>\n",
       "      <th>May-2019</th>\n",
       "      <td>6543.75</td>\n",
       "      <td>11148.20</td>\n",
       "    </tr>\n",
       "  </tbody>\n",
       "</table>\n",
       "</div>"
      ],
      "text/plain": [
       "           maruti     nifty\n",
       "May-2017  7211.00   9621.25\n",
       "Jun-2017  7217.60   9520.90\n",
       "Jul-2017  7750.05  10077.10\n",
       "Aug-2017  7700.30   9917.90\n",
       "Sep-2017  7978.20   9788.60\n",
       "Oct-2017  8211.25  10335.30\n",
       "Nov-2017  8599.10  10226.55\n",
       "Dec-2017  9729.55  10530.70\n",
       "Jan-2018  9509.70  11027.70\n",
       "Feb-2018  8850.95  10492.85\n",
       "Mar-2018  8861.10  10113.70\n",
       "Apr-2018  8814.95  10739.35\n",
       "May-2018  8537.20  10736.15\n",
       "Jun-2018  8825.60  10714.30\n",
       "Jul-2018  9520.55  11356.50\n",
       "Aug-2018  9096.40  11680.50\n",
       "Sep-2018  7347.95  10930.45\n",
       "Oct-2018  6616.40  10386.60\n",
       "Nov-2018  7661.60  10876.75\n",
       "Dec-2018  7465.50  10862.55\n",
       "Jan-2019  6641.15  10830.95\n",
       "Feb-2019  6829.70  10792.50\n",
       "Mar-2019  6672.55  11623.90\n",
       "Apr-2019  6666.40  11748.15\n",
       "May-2019  6543.75  11148.20"
      ]
     },
     "execution_count": 63,
     "metadata": {},
     "output_type": "execute_result"
    }
   ],
   "source": [
    "month.columns=['maruti','nifty']\n",
    "month.index=prices['month'].unique()\n",
    "month"
   ]
  },
  {
   "cell_type": "code",
   "execution_count": 66,
   "metadata": {},
   "outputs": [
    {
     "name": "stdout",
     "output_type": "stream",
     "text": [
      "                            OLS Regression Results                            \n",
      "==============================================================================\n",
      "Dep. Variable:                 maruti   R-squared:                       0.151\n",
      "Model:                            OLS   Adj. R-squared:                  0.136\n",
      "Method:                 Least Squares   F-statistic:                     10.28\n",
      "Date:                Tue, 06 Aug 2019   Prob (F-statistic):            0.00219\n",
      "Time:                        02:10:33   Log-Likelihood:                 179.65\n",
      "No. Observations:                  60   AIC:                            -355.3\n",
      "Df Residuals:                      58   BIC:                            -351.1\n",
      "Df Model:                           1                                         \n",
      "Covariance Type:            nonrobust                                         \n",
      "==============================================================================\n",
      "                 coef    std err          t      P>|t|      [0.025      0.975]\n",
      "------------------------------------------------------------------------------\n",
      "const         -0.0016      0.002     -1.006      0.319      -0.005       0.002\n",
      "nifty          0.7523      0.235      3.206      0.002       0.283       1.222\n",
      "==============================================================================\n",
      "Omnibus:                        1.985   Durbin-Watson:                   1.401\n",
      "Prob(Omnibus):                  0.371   Jarque-Bera (JB):                1.208\n",
      "Skew:                          -0.196   Prob(JB):                        0.547\n",
      "Kurtosis:                       3.574   Cond. No.                         147.\n",
      "==============================================================================\n",
      "\n",
      "Warnings:\n",
      "[1] Standard Errors assume that the covariance matrix of the errors is correctly specified.\n"
     ]
    }
   ],
   "source": [
    "returnsm = month.pct_change()\n",
    "returnsm = returnsm.dropna(axis=0)\n",
    "\n",
    "xm = returnsm['nifty']\n",
    "ym = returnsm['maruti']\n",
    "\n",
    "x1m = sm.add_constant(xm)\n",
    "\n",
    "model = sm.OLS(ym,x1m)\n",
    "\n",
    "resutls = model.fit()\n",
    "print(results.summary())"
   ]
  },
  {
   "cell_type": "markdown",
   "metadata": {},
   "source": [
    "### A negative beta correlation means an investment moves in the opposite direction from the stock market. When the market rises, a negative-beta investment generally falls. When the market falls, the negative-beta investment will tend to rise."
   ]
  }
 ],
 "metadata": {
  "kernelspec": {
   "display_name": "Python 3",
   "language": "python",
   "name": "python3"
  },
  "language_info": {
   "codemirror_mode": {
    "name": "ipython",
    "version": 3
   },
   "file_extension": ".py",
   "mimetype": "text/x-python",
   "name": "python",
   "nbconvert_exporter": "python",
   "pygments_lexer": "ipython3",
   "version": "3.6.5"
  }
 },
 "nbformat": 4,
 "nbformat_minor": 2
}
